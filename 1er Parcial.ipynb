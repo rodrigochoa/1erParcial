{
 "cells": [
  {
   "cell_type": "markdown",
   "metadata": {},
   "source": [
    "# Gafica"
   ]
  },
  {
   "cell_type": "code",
   "execution_count": 2,
   "metadata": {},
   "outputs": [],
   "source": [
    "import matplotlib.pyplot as plt \n",
    "from numpy import *\n",
    "\n",
    "x = arange(0.0, 10, 0.01)\n",
    "y = sin(e**x) - cos(x)\n",
    "plt.plot(x,y)\n",
    "plt.grid(axis = 'both')"
   ]
  },
  {
   "cell_type": "markdown",
   "metadata": {},
   "source": [
    "# Identificador"
   ]
  },
  {
   "cell_type": "code",
   "execution_count": 15,
   "metadata": {},
   "outputs": [
    {
     "name": "stdout",
     "output_type": "stream",
     "text": [
      "{'Real': '678.32'}\n",
      "{'Entero': '1234'}\n",
      "{'Id': 'hola'}\n",
      "{'Id': 'mundo234'}\n",
      "{'Entero': '34'}\n",
      "{'Op': '+'}\n",
      "{'Op': '-'}\n"
     ]
    }
   ],
   "source": [
    "Entrada_1 = \"678.32 1234 hola mundo234 34 + - \"\n",
    "Arreglo = []\n",
    "Lista_1 = []\n",
    "Contador = 0;\n",
    "Conteo = 0\n",
    "\n",
    "def Separador(Arreglo, Contador):\n",
    "    for x in range(len(Entrada_1)):\n",
    "        Lista_1.insert(x, Entrada_1[x])\n",
    "        \n",
    "    Space = 0\n",
    "    for x in range(Contador,len(Entrada_1)):\n",
    "        if Entrada_1[x] != ' ':\n",
    "            Arreglo.insert(Space, Entrada_1[x])\n",
    "            Space += 1\n",
    "        else:\n",
    "            y = x + 1\n",
    "            break;      \n",
    "    return y\n",
    "\n",
    "def Identificador(Arreglo):\n",
    "    \n",
    "\n",
    "    if '1' <= Arreglo[0] <= '9':\n",
    "        for x in range(0, len(Arreglo)):  \n",
    "            if Arreglo[x] == '.':\n",
    "                a = 1;\n",
    "                break;\n",
    "            else:\n",
    "                a = 0\n",
    "                \n",
    "        if a == 1:\n",
    "            Reales = \"\".join(Arreglo)\n",
    "            dic_Real = dict([('Real', Reales)])\n",
    "            print(dic_Real)\n",
    "            a = 0\n",
    "        else:\n",
    "            Entero = \"\".join(Arreglo)\n",
    "            dic_Entero = dict([('Entero', Entero)])\n",
    "            print(dic_Entero)\n",
    "            a = 0\n",
    "    \n",
    " \n",
    "    if 'a' <= Arreglo[0] <= 'z':\n",
    "        for x in range(0, len(Arreglo)):\n",
    "            ID = \"\".join(Arreglo)\n",
    "            dic_ID = dict([('Id', ID)])\n",
    "        print(dic_ID)\n",
    "        \n",
    "   \n",
    "    if Arreglo[0] == '+' or Arreglo[0] == '-':\n",
    "        Operador = \"\".join(Arreglo)\n",
    "        dic_Operador = dict([('Op', Operador)])\n",
    "        print(dic_Operador)\n",
    "\n",
    "while Conteo < len(Entrada_1):\n",
    "    Conteo = Separador(Arreglo, Conteo)\n",
    "    Identificador(Arreglo)\n",
    "    del Arreglo[:]"
   ]
  },
  {
   "cell_type": "markdown",
   "metadata": {},
   "source": [
    "# Mensaje"
   ]
  },
  {
   "cell_type": "code",
   "execution_count": 21,
   "metadata": {},
   "outputs": [
    {
     "name": "stdout",
     "output_type": "stream",
     "text": [
      "i hope you didnt translate it by hand. thats what computers are for. doing it in by hand is inefficient and that's why this text is so long. using string.maketrans() is recommended.\n"
     ]
    }
   ],
   "source": [
    "abc = \"abcdefghijklmnopqrstuvwxyz\"\n",
    "text = \"g fmnc wms bgblr rpylqjyrc gr zw fylb. rfyrq ufyr amknsrcpq ypc dmp. bmgle gr gl zw fylb gq glcddgagclr ylb rfyr'q ufw rfgq rcvr gq qm jmle. sqgle qrpgle.kyicrpylq() gq pcamkkclbcb.\"\n",
    "list_resp = []\n",
    "t_abc = list(abc)\n",
    "t_oracion = list(text)\n",
    "s = 0\n",
    "p = 0\n",
    "x = 0\n",
    "y = 0\n",
    "\n",
    "for x in text:\n",
    "    s = s + 1\n",
    "    for y in abc:\n",
    "        p = p + 1\n",
    "        if x == y:\n",
    "            list_resp.insert(s,t_abc[p+1]) \n",
    "            p = 0\n",
    "            break;\n",
    "        if x == \" \":\n",
    "            list_resp.insert(s, \" \")\n",
    "            p = 0\n",
    "            break;\n",
    "        if x == \"y\":\n",
    "            list_resp.insert(s, t_abc[0])\n",
    "            p = 0\n",
    "            break;\n",
    "        if x == \"z\":\n",
    "            list_resp.insert(s, t_abc[1])\n",
    "            p = 0\n",
    "            break;\n",
    "        if x == \".\" or x == \"(\" or x == \")\" or x == \"'\":\n",
    "            list_resp.insert(s, x)\n",
    "            p = 0\n",
    "            break;\n",
    "\n",
    "res = \"\".join(list_resp)\n",
    "print(res)"
   ]
  },
  {
   "cell_type": "markdown",
   "metadata": {},
   "source": [
    "# Sympy"
   ]
  },
  {
   "cell_type": "code",
   "execution_count": 22,
   "metadata": {},
   "outputs": [
    {
     "data": {
      "text/plain": [
       "{x: 7, y: 18}"
      ]
     },
     "execution_count": 22,
     "metadata": {},
     "output_type": "execute_result"
    }
   ],
   "source": [
    "from sympy import *\n",
    "\n",
    "x,y = symbols('x y')\n",
    "solve([x + y - 25, x*2 - 14],[x , y])"
   ]
  },
  {
   "cell_type": "markdown",
   "metadata": {},
   "source": [
    "# Numpy"
   ]
  },
  {
   "cell_type": "code",
   "execution_count": 23,
   "metadata": {},
   "outputs": [
    {
     "name": "stdout",
     "output_type": "stream",
     "text": [
      "[10.  4.  2.]\n",
      "16.0\n"
     ]
    }
   ],
   "source": [
    "import numpy as np\n",
    "a = np.array([[3,0,0],\n",
    "             [1,2,0],\n",
    "             [0,1,-1]])\n",
    "\n",
    "b = np.array([30,18,2])\n",
    "x = np.linalg.solve(a,b)\n",
    "print(x)\n",
    "\n",
    "answer = sum(x)\n",
    "print(answer)"
   ]
  },
  {
   "cell_type": "code",
   "execution_count": null,
   "metadata": {},
   "outputs": [],
   "source": []
  }
 ],
 "metadata": {
  "kernelspec": {
   "display_name": "Python 3",
   "language": "python",
   "name": "python3"
  },
  "language_info": {
   "codemirror_mode": {
    "name": "ipython",
    "version": 3
   },
   "file_extension": ".py",
   "mimetype": "text/x-python",
   "name": "python",
   "nbconvert_exporter": "python",
   "pygments_lexer": "ipython3",
   "version": "3.7.1"
  }
 },
 "nbformat": 4,
 "nbformat_minor": 2
}
